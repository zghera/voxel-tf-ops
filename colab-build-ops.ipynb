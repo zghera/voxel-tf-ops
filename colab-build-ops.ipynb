{
  "nbformat": 4,
  "nbformat_minor": 0,
  "metadata": {
    "colab": {
      "name": "terminal.ipynb",
      "provenance": [],
      "collapsed_sections": []
    },
    "kernelspec": {
      "name": "python3",
      "display_name": "Python 3"
    },
    "language_info": {
      "name": "python"
    },
    "accelerator": "GPU"
  },
  "cells": [
    {
      "cell_type": "code",
      "metadata": {
        "colab": {
          "base_uri": "https://localhost:8080/"
        },
        "id": "_2KcG9-CzEPb",
        "outputId": "9ed5aa53-4381-49bb-de1e-867c70e2557e"
      },
      "source": [
        "from google.colab import drive\n",
        "drive.mount('/root/gdrive')"
      ],
      "execution_count": 1,
      "outputs": [
        {
          "output_type": "stream",
          "name": "stdout",
          "text": [
            "Drive already mounted at /root/gdrive; to attempt to forcibly remount, call drive.mount(\"/root/gdrive\", force_remount=True).\n"
          ]
        }
      ]
    },
    {
      "cell_type": "code",
      "metadata": {
        "colab": {
          "base_uri": "https://localhost:8080/"
        },
        "id": "Ve7QJDAXUdUb",
        "outputId": "10f168e7-d504-4235-e668-0d385bd08a20"
      },
      "source": [
        "%cd ~/gdrive/MyDrive/'_ECE 570'/Project/ops/voxel-tf-ops/\n",
        "%ls"
      ],
      "execution_count": 2,
      "outputs": [
        {
          "output_type": "stream",
          "name": "stdout",
          "text": [
            "/root/gdrive/MyDrive/_ECE 570/Project/ops/voxel-tf-ops\n",
            "\u001b[0m\u001b[01;34mavg_vox\u001b[0m/          \u001b[01;34mcuda_includes\u001b[0m/  MANIFEST.in     \u001b[01;34mtf\u001b[0m/\n",
            "BUILD             \u001b[01;34mgpu\u001b[0m/            README.md       \u001b[01;34mthird_party\u001b[0m/\n",
            "build_pip_pkg.sh  LICENSE         setup.py        \u001b[01;34mutils\u001b[0m/\n",
            "configure.sh      Makefile        terminal.ipynb  WORKSPACE\n"
          ]
        }
      ]
    },
    {
      "cell_type": "code",
      "metadata": {
        "id": "mHuroIww-eJN"
      },
      "source": [
        "!mkdir -p /usr/local/lib/python3.7/dist-packages/tensorflow/include/third_party/gpus/cuda/include"
      ],
      "execution_count": 3,
      "outputs": []
    },
    {
      "cell_type": "code",
      "metadata": {
        "id": "u2bcgd7F_zUr",
        "colab": {
          "base_uri": "https://localhost:8080/"
        },
        "outputId": "e1fc0e6c-5796-440b-dffb-3409add737b2"
      },
      "source": [
        "!cp -r cuda_includes/*.h /usr/local/lib/python3.7/dist-packages/tensorflow/include/third_party/gpus/cuda/include\n",
        "!ls /usr/local/lib/python3.7/dist-packages/tensorflow/include/third_party/gpus/cuda/include"
      ],
      "execution_count": 3,
      "outputs": [
        {
          "output_type": "stream",
          "name": "stdout",
          "text": [
            "cuda_fp16.h  cuda.h\n"
          ]
        }
      ]
    },
    {
      "cell_type": "code",
      "metadata": {
        "id": "czas9e_D1B4s"
      },
      "source": [
        "# TF 2.7 had 3 errors in tensor_types.h, downgraded to TF 2.6 and works!\n",
        "!pip uninstall tensorflow\n",
        "!pip install tensorflow==2.6.2"
      ],
      "execution_count": null,
      "outputs": []
    },
    {
      "cell_type": "code",
      "metadata": {
        "colab": {
          "base_uri": "https://localhost:8080/"
        },
        "id": "IEolzIGf4-Yy",
        "outputId": "825b9db2-02a7-4438-b361-c102780cda23"
      },
      "source": [
        "!python3 -c 'import tensorflow as tf; print(tf.__version__)' "
      ],
      "execution_count": 4,
      "outputs": [
        {
          "output_type": "stream",
          "name": "stdout",
          "text": [
            "2.6.2\n"
          ]
        }
      ]
    },
    {
      "cell_type": "code",
      "metadata": {
        "id": "kWMgSrz6JlT9",
        "colab": {
          "base_uri": "https://localhost:8080/"
        },
        "outputId": "dead4899-2447-49eb-c70b-a20e91743f40"
      },
      "source": [
        "import tensorflow as tf\n",
        "# from avg_vox.python.ops.avg_vox_ops import avg_voxelize_forward\n",
        "\n",
        "tf.debugging.set_log_device_placement(True)\n",
        "gpu_devices = tf.config.list_physical_devices('GPU')\n",
        "print(\"Num GPUs Available: \", len(gpu_devices))\n",
        "for device in gpu_devices:\n",
        "    tf.config.experimental.set_memory_growth(device, True)"
      ],
      "execution_count": 5,
      "outputs": [
        {
          "output_type": "stream",
          "name": "stdout",
          "text": [
            "Num GPUs Available:  1\n"
          ]
        }
      ]
    },
    {
      "cell_type": "code",
      "metadata": {
        "colab": {
          "base_uri": "https://localhost:8080/"
        },
        "id": "sH4KOiwn6tFs",
        "outputId": "f3274436-3d5b-4e72-c653-1464d97c10e8"
      },
      "source": [
        "!make clean"
      ],
      "execution_count": 6,
      "outputs": [
        {
          "output_type": "stream",
          "name": "stdout",
          "text": [
            "rm -f avg_vox/python/ops/_avg_vox_ops.cu.o avg_vox/python/ops/_avg_vox_ops.so trilinear_devox/python/ops/_trilinear_devox_ops.cu.o trilinear_devox/python/ops/_trilinear_devox_ops.so \n"
          ]
        }
      ]
    },
    {
      "cell_type": "code",
      "metadata": {
        "colab": {
          "base_uri": "https://localhost:8080/"
        },
        "id": "2mA1YTUEvQe8",
        "outputId": "b1fdd22d-7c00-4da3-c483-e27ebaba4731"
      },
      "source": [
        "from tensorflow.python.framework.errors_impl import NotFoundError\n",
        "\n",
        "avg_vox_ops_so_path = './avg_vox/python/ops/_avg_vox_ops.so'\n",
        "try:\n",
        "  avg_vox_ops = tf.load_op_library(avg_vox_ops_so_path)\n",
        "except NotFoundError as e:\n",
        "  print('Successfully cleaned!')\n",
        "else:\n",
        "  print('Colab is still seeing old .so')"
      ],
      "execution_count": 7,
      "outputs": [
        {
          "output_type": "stream",
          "name": "stdout",
          "text": [
            "Successfully cleaned!\n"
          ]
        }
      ]
    },
    {
      "cell_type": "code",
      "metadata": {
        "id": "Ld9LoOKx9UAW"
      },
      "source": [
        "!make vox_gpu_only"
      ],
      "execution_count": null,
      "outputs": []
    },
    {
      "cell_type": "code",
      "metadata": {
        "colab": {
          "base_uri": "https://localhost:8080/"
        },
        "id": "zlbgtyT083xO",
        "outputId": "385f893c-7190-4263-9909-93517e0a4c34"
      },
      "source": [
        "!make vox_op"
      ],
      "execution_count": 9,
      "outputs": [
        {
          "output_type": "stream",
          "name": "stdout",
          "text": [
            "nvcc -std=c++11 -c -o avg_vox/python/ops/_avg_vox_ops.cu.o avg_vox/cc/avg_vox_kernels.cu.cc  -I/usr/local/lib/python3.7/dist-packages/tensorflow/include -D_GLIBCXX_USE_CXX11_ABI=0 -DEIGEN_MAX_ALIGN_BYTES=64 -Iutils -D GOOGLE_CUDA=1 -x cu -Xcompiler -fPIC -DNDEBUG --expt-relaxed-constexpr\n",
            "/usr/local/lib/python3.7/dist-packages/tensorflow/include/absl/strings/string_view.h(337): warning: expression has no effect\n",
            "\n",
            "/usr/local/lib/python3.7/dist-packages/tensorflow/include/absl/strings/string_view.h(347): warning: expression has no effect\n",
            "\n",
            "/usr/local/lib/python3.7/dist-packages/tensorflow/include/absl/strings/string_view.h(529): warning: expression has no effect\n",
            "\n",
            "/usr/local/lib/python3.7/dist-packages/tensorflow/include/tensorflow/core/platform/file_system.h(574): warning: overloaded virtual function \"tensorflow::FileSystem::FilesExist\" is only partially overridden in class \"tensorflow::WrappedFileSystem\"\n",
            "\n",
            "/usr/local/lib/python3.7/dist-packages/tensorflow/include/tensorflow/core/platform/file_system.h(574): warning: overloaded virtual function \"tensorflow::FileSystem::CreateDir\" is only partially overridden in class \"tensorflow::WrappedFileSystem\"\n",
            "\n",
            "/usr/local/lib/python3.7/dist-packages/tensorflow/include/tensorflow/core/platform/env.h(495): warning: overloaded virtual function \"tensorflow::Env::RegisterFileSystem\" is only partially overridden in class \"tensorflow::EnvWrapper\"\n",
            "\n",
            "/usr/local/lib/python3.7/dist-packages/tensorflow/include/absl/types/optional.h(428): warning: expression has no effect\n",
            "          detected during instantiation of \"const T &absl::lts_20210324::optional<T>::operator*() const & [with T=stream_executor::dnn::AlgorithmDesc]\" \n",
            "/usr/local/lib/python3.7/dist-packages/tensorflow/include/tensorflow/stream_executor/dnn.h(817): here\n",
            "\n",
            "/usr/local/lib/python3.7/dist-packages/tensorflow/include/absl/types/optional.h(428): warning: expression has no effect\n",
            "          detected during:\n",
            "            instantiation of \"const T &absl::lts_20210324::optional<T>::operator*() const & [with T=size_t]\" \n",
            "(605): here\n",
            "            instantiation of \"auto absl::lts_20210324::operator==(const absl::lts_20210324::optional<T> &, const absl::lts_20210324::optional<U> &)->__nv_bool [with T=size_t, U=size_t]\" \n",
            "/usr/local/lib/python3.7/dist-packages/tensorflow/include/tensorflow/stream_executor/dnn.h(876): here\n",
            "\n",
            "/usr/local/lib/python3.7/dist-packages/tensorflow/include/absl/strings/string_view.h(337): warning: expression has no effect\n",
            "\n",
            "/usr/local/lib/python3.7/dist-packages/tensorflow/include/absl/strings/string_view.h(347): warning: expression has no effect\n",
            "\n",
            "/usr/local/lib/python3.7/dist-packages/tensorflow/include/absl/strings/string_view.h(529): warning: expression has no effect\n",
            "\n",
            "/usr/local/lib/python3.7/dist-packages/tensorflow/include/tensorflow/core/platform/file_system.h(574): warning: overloaded virtual function \"tensorflow::FileSystem::FilesExist\" is only partially overridden in class \"tensorflow::WrappedFileSystem\"\n",
            "\n",
            "/usr/local/lib/python3.7/dist-packages/tensorflow/include/tensorflow/core/platform/file_system.h(574): warning: overloaded virtual function \"tensorflow::FileSystem::CreateDir\" is only partially overridden in class \"tensorflow::WrappedFileSystem\"\n",
            "\n",
            "/usr/local/lib/python3.7/dist-packages/tensorflow/include/tensorflow/core/platform/env.h(495): warning: overloaded virtual function \"tensorflow::Env::RegisterFileSystem\" is only partially overridden in class \"tensorflow::EnvWrapper\"\n",
            "\n",
            "/usr/local/lib/python3.7/dist-packages/tensorflow/include/absl/types/optional.h(428): warning: expression has no effect\n",
            "          detected during instantiation of \"const T &absl::lts_20210324::optional<T>::operator*() const & [with T=stream_executor::dnn::AlgorithmDesc]\" \n",
            "/usr/local/lib/python3.7/dist-packages/tensorflow/include/tensorflow/stream_executor/dnn.h(817): here\n",
            "\n",
            "/usr/local/lib/python3.7/dist-packages/tensorflow/include/absl/types/optional.h(428): warning: expression has no effect\n",
            "          detected during:\n",
            "            instantiation of \"const T &absl::lts_20210324::optional<T>::operator*() const & [with T=size_t]\" \n",
            "(605): here\n",
            "            instantiation of \"auto absl::lts_20210324::operator==(const absl::lts_20210324::optional<T> &, const absl::lts_20210324::optional<U> &)->bool [with T=size_t, U=size_t]\" \n",
            "/usr/local/lib/python3.7/dist-packages/tensorflow/include/tensorflow/stream_executor/dnn.h(876): here\n",
            "\n",
            "g++ -I/usr/local/lib/python3.7/dist-packages/tensorflow/include -D_GLIBCXX_USE_CXX11_ABI=0 -DEIGEN_MAX_ALIGN_BYTES=64 -fPIC -O2 -std=c++11 -o avg_vox/python/ops/_avg_vox_ops.so avg_vox/cc/avg_vox_kernels.cc avg_vox/python/ops/_avg_vox_ops.cu.o -shared -L/usr/local/lib/python3.7/dist-packages/tensorflow -l:libtensorflow_framework.so.2  -D GOOGLE_CUDA=1  -I/usr/local/cuda/targets/x86_64-linux/include -L/usr/local/cuda/targets/x86_64-linux/lib -lcudart\n"
          ]
        }
      ]
    },
    {
      "cell_type": "code",
      "metadata": {
        "id": "sO-tZxXICcAY",
        "colab": {
          "base_uri": "https://localhost:8080/"
        },
        "outputId": "ff690166-1272-4a10-8c28-212327f1661f"
      },
      "source": [
        "!make vox_test"
      ],
      "execution_count": 6,
      "outputs": [
        {
          "output_type": "stream",
          "name": "stdout",
          "text": [
            "python avg_vox/python/ops/avg_vox_ops_test.py\n",
            "2021-11-11 20:28:23.086741: I tensorflow/stream_executor/cuda/cuda_gpu_executor.cc:937] successful NUMA node read from SysFS had negative value (-1), but there must be at least one NUMA node, so returning NUMA node zero\n",
            "2021-11-11 20:28:23.095186: I tensorflow/stream_executor/cuda/cuda_gpu_executor.cc:937] successful NUMA node read from SysFS had negative value (-1), but there must be at least one NUMA node, so returning NUMA node zero\n",
            "2021-11-11 20:28:23.095786: I tensorflow/stream_executor/cuda/cuda_gpu_executor.cc:937] successful NUMA node read from SysFS had negative value (-1), but there must be at least one NUMA node, so returning NUMA node zero\n",
            "Running tests under Python 3.7.12: /usr/bin/python3\n",
            "[ RUN      ] AvgVoxTest.test_avg_voxelize_forward\n",
            "2021-11-11 20:28:23.099362: I tensorflow/core/platform/cpu_feature_guard.cc:142] This TensorFlow binary is optimized with oneAPI Deep Neural Network Library (oneDNN) to use the following CPU instructions in performance-critical operations:  AVX2 FMA\n",
            "To enable them in other operations, rebuild TensorFlow with the appropriate compiler flags.\n",
            "2021-11-11 20:28:23.099627: I tensorflow/stream_executor/cuda/cuda_gpu_executor.cc:937] successful NUMA node read from SysFS had negative value (-1), but there must be at least one NUMA node, so returning NUMA node zero\n",
            "2021-11-11 20:28:23.100180: I tensorflow/stream_executor/cuda/cuda_gpu_executor.cc:937] successful NUMA node read from SysFS had negative value (-1), but there must be at least one NUMA node, so returning NUMA node zero\n",
            "2021-11-11 20:28:23.100713: I tensorflow/stream_executor/cuda/cuda_gpu_executor.cc:937] successful NUMA node read from SysFS had negative value (-1), but there must be at least one NUMA node, so returning NUMA node zero\n",
            "2021-11-11 20:28:23.778621: I tensorflow/stream_executor/cuda/cuda_gpu_executor.cc:937] successful NUMA node read from SysFS had negative value (-1), but there must be at least one NUMA node, so returning NUMA node zero\n",
            "2021-11-11 20:28:23.779234: I tensorflow/stream_executor/cuda/cuda_gpu_executor.cc:937] successful NUMA node read from SysFS had negative value (-1), but there must be at least one NUMA node, so returning NUMA node zero\n",
            "2021-11-11 20:28:23.779825: I tensorflow/stream_executor/cuda/cuda_gpu_executor.cc:937] successful NUMA node read from SysFS had negative value (-1), but there must be at least one NUMA node, so returning NUMA node zero\n",
            "2021-11-11 20:28:23.780354: W tensorflow/core/common_runtime/gpu/gpu_bfc_allocator.cc:39] Overriding allow_growth setting because the TF_FORCE_GPU_ALLOW_GROWTH environment variable is set. Original config value was 0.\n",
            "2021-11-11 20:28:23.780400: I tensorflow/core/common_runtime/gpu/gpu_device.cc:1510] Created device /job:localhost/replica:0/task:0/device:GPU:0 with 15405 MB memory:  -> device: 0, name: Tesla P100-PCIE-16GB, pci bus id: 0000:00:04.0, compute capability: 6.0\n",
            "INFO:tensorflow:time(__main__.AvgVoxTest.test_avg_voxelize_forward): 0.69s\n",
            "I1111 20:28:23.787817 140675854497664 test_util.py:2189] time(__main__.AvgVoxTest.test_avg_voxelize_forward): 0.69s\n",
            "[       OK ] AvgVoxTest.test_avg_voxelize_forward\n",
            "[ RUN      ] AvgVoxTest.test_session\n",
            "[  SKIPPED ] AvgVoxTest.test_session\n",
            "----------------------------------------------------------------------\n",
            "Ran 2 tests in 0.689s\n",
            "\n",
            "OK (skipped=1)\n"
          ]
        }
      ]
    },
    {
      "cell_type": "code",
      "metadata": {
        "id": "GtyqA7l4Hq64"
      },
      "source": [
        "avg_vox_ops = tf.load_op_library(avg_vox_ops_so_path)\n",
        "# avg_vox_ops = tf.load_op_library('/root/gdrive/My Drive/_ECE 570/Project/ops/voxel-tf-ops/avg_vox/python/ops/_avg_vox_ops.so')\n",
        "avg_voxelize_forward = avg_vox_ops.avg_vox_forward"
      ],
      "execution_count": 10,
      "outputs": []
    },
    {
      "cell_type": "code",
      "metadata": {
        "colab": {
          "base_uri": "https://localhost:8080/"
        },
        "id": "7bffxjhrDXUW",
        "outputId": "adcc1991-05bd-4def-cbf4-af635675c04e"
      },
      "source": [
        "# [B, C, N] = [2, 5, 4]\n",
        "features = tf.constant([\n",
        "  [[1, 2, 3, 4],\n",
        "    [1, 2, 3, 4],\n",
        "    [1, 2, 3, 4],\n",
        "    [1, 2, 3, 4],\n",
        "    [1, 2, 3, 4]],\n",
        "  [[1, 2, 3, 4],\n",
        "    [1, 2, 3, 4],\n",
        "    [1, 2, 3, 4],\n",
        "    [1, 2, 3, 4],\n",
        "    [1, 2, 3, 4]],\n",
        "], dtype=tf.float32)\n",
        "# [B, 3, N] = [2, 3, 4]\n",
        "coords = tf.constant([\n",
        "  [[1, 2, 3, 4],\n",
        "    [1, 2, 3, 4],\n",
        "    [1, 2, 3, 4]],\n",
        "  [[1, 2, 3, 4],\n",
        "    [1, 2, 3, 4],\n",
        "    [1, 2, 3, 4]],\n",
        "], dtype=tf.int32)\n",
        "resolution = tf.constant(4)\n",
        "\n",
        "# for i in range(1,5):\n",
        "  # out, ind, cnt = avg_voxelize_forward(features, coords, tf.constant(i))\n",
        "out, ind, cnt = avg_voxelize_forward(features, coords, resolution)\n",
        "\n",
        "# print(f\"Output with voxel resolution = {i}\")\n",
        "print(\"ind\\n---\")\n",
        "print(ind)\n",
        "print()\n",
        "\n",
        "print(\"cnt\\n---\")\n",
        "print(cnt)\n",
        "print()\n",
        "\n",
        "print(\"out\\n---\")\n",
        "print(out)\n",
        "print(\"\\n\")\n"
      ],
      "execution_count": 144,
      "outputs": [
        {
          "output_type": "stream",
          "name": "stdout",
          "text": [
            "Executing op _EagerConst in device /job:localhost/replica:0/task:0/device:GPU:0\n",
            "Executing op _EagerConst in device /job:localhost/replica:0/task:0/device:GPU:0\n",
            "Executing op AvgVoxForward in device /job:localhost/replica:0/task:0/device:GPU:0\n",
            "ind\n",
            "---\n",
            "tf.Tensor(\n",
            "[[21 42 63 84]\n",
            " [21 42 63 84]], shape=(2, 4), dtype=int32)\n",
            "\n",
            "cnt\n",
            "---\n",
            "tf.Tensor(\n",
            "[[0 0 0 0 0 0 0 0 0 0 0 0 0 0 0 0 0 0 0 0 0 1 0 0 0 0 0 0 0 0 0 0 0 0 0 0\n",
            "  0 0 0 0 0 0 1 0 0 0 0 0 0 0 0 0 0 0 0 0 0 0 0 0 0 0 0 1]\n",
            " [0 0 0 0 0 0 0 0 0 0 0 0 0 0 0 0 0 0 0 0 0 1 0 0 0 0 0 0 0 0 0 0 0 0 0 0\n",
            "  0 0 0 0 0 0 1 0 0 0 0 0 0 0 0 0 0 0 0 0 0 0 0 0 0 0 0 1]], shape=(2, 64), dtype=int32)\n",
            "\n",
            "out\n",
            "---\n",
            "tf.Tensor(\n",
            "[[[0. 0. 0. 0. 0. 0. 0. 0. 0. 0. 0. 0. 0. 0. 0. 0. 0. 0. 0. 0. 0. 1. 0.\n",
            "   0. 0. 0. 0. 0. 0. 0. 0. 0. 0. 0. 0. 0. 0. 0. 0. 0. 0. 0. 2. 0. 0. 0.\n",
            "   0. 0. 0. 0. 0. 0. 0. 0. 0. 0. 0. 0. 0. 0. 0. 0. 0. 3.]\n",
            "  [0. 0. 0. 0. 0. 0. 0. 0. 0. 0. 0. 0. 0. 0. 0. 0. 0. 0. 0. 0. 0. 1. 0.\n",
            "   0. 0. 0. 0. 0. 0. 0. 0. 0. 0. 0. 0. 0. 0. 0. 0. 0. 0. 0. 2. 0. 0. 0.\n",
            "   0. 0. 0. 0. 0. 0. 0. 0. 0. 0. 0. 0. 0. 0. 0. 0. 0. 3.]\n",
            "  [0. 0. 0. 0. 0. 0. 0. 0. 0. 0. 0. 0. 0. 0. 0. 0. 0. 0. 0. 0. 0. 1. 0.\n",
            "   0. 0. 0. 0. 0. 0. 0. 0. 0. 0. 0. 0. 0. 0. 0. 0. 0. 0. 0. 2. 0. 0. 0.\n",
            "   0. 0. 0. 0. 0. 0. 0. 0. 0. 0. 0. 0. 0. 0. 0. 0. 0. 3.]\n",
            "  [0. 0. 0. 0. 0. 0. 0. 0. 0. 0. 0. 0. 0. 0. 0. 0. 0. 0. 0. 0. 0. 1. 0.\n",
            "   0. 0. 0. 0. 0. 0. 0. 0. 0. 0. 0. 0. 0. 0. 0. 0. 0. 0. 0. 2. 0. 0. 0.\n",
            "   0. 0. 0. 0. 0. 0. 0. 0. 0. 0. 0. 0. 0. 0. 0. 0. 0. 3.]\n",
            "  [0. 0. 0. 0. 0. 0. 0. 0. 0. 0. 0. 0. 0. 0. 0. 0. 0. 0. 0. 0. 0. 1. 0.\n",
            "   0. 0. 0. 0. 0. 0. 0. 0. 0. 0. 0. 0. 0. 0. 0. 0. 0. 0. 0. 2. 0. 0. 0.\n",
            "   0. 0. 0. 0. 0. 0. 0. 0. 0. 0. 0. 0. 0. 0. 0. 0. 0. 3.]]\n",
            "\n",
            " [[0. 0. 0. 0. 0. 0. 0. 0. 0. 0. 0. 0. 0. 0. 0. 0. 0. 0. 0. 0. 0. 1. 0.\n",
            "   0. 0. 0. 0. 0. 0. 0. 0. 0. 0. 0. 0. 0. 0. 0. 0. 0. 0. 0. 2. 0. 0. 0.\n",
            "   0. 0. 0. 0. 0. 0. 0. 0. 0. 0. 0. 0. 0. 0. 0. 0. 0. 3.]\n",
            "  [0. 0. 0. 0. 0. 0. 0. 0. 0. 0. 0. 0. 0. 0. 0. 0. 0. 0. 0. 0. 0. 1. 0.\n",
            "   0. 0. 0. 0. 0. 0. 0. 0. 0. 0. 0. 0. 0. 0. 0. 0. 0. 0. 0. 2. 0. 0. 0.\n",
            "   0. 0. 0. 0. 0. 0. 0. 0. 0. 0. 0. 0. 0. 0. 0. 0. 0. 3.]\n",
            "  [0. 0. 0. 0. 0. 0. 0. 0. 0. 0. 0. 0. 0. 0. 0. 0. 0. 0. 0. 0. 0. 1. 0.\n",
            "   0. 0. 0. 0. 0. 0. 0. 0. 0. 0. 0. 0. 0. 0. 0. 0. 0. 0. 0. 2. 0. 0. 0.\n",
            "   0. 0. 0. 0. 0. 0. 0. 0. 0. 0. 0. 0. 0. 0. 0. 0. 0. 3.]\n",
            "  [0. 0. 0. 0. 0. 0. 0. 0. 0. 0. 0. 0. 0. 0. 0. 0. 0. 0. 0. 0. 0. 1. 0.\n",
            "   0. 0. 0. 0. 0. 0. 0. 0. 0. 0. 0. 0. 0. 0. 0. 0. 0. 0. 0. 2. 0. 0. 0.\n",
            "   0. 0. 0. 0. 0. 0. 0. 0. 0. 0. 0. 0. 0. 0. 0. 0. 0. 3.]\n",
            "  [0. 0. 0. 0. 0. 0. 0. 0. 0. 0. 0. 0. 0. 0. 0. 0. 0. 0. 0. 0. 0. 1. 0.\n",
            "   0. 0. 0. 0. 0. 0. 0. 0. 0. 0. 0. 0. 0. 0. 0. 0. 0. 0. 0. 2. 0. 0. 0.\n",
            "   0. 0. 0. 0. 0. 0. 0. 0. 0. 0. 0. 0. 0. 0. 0. 0. 0. 3.]]], shape=(2, 5, 64), dtype=float32)\n",
            "\n",
            "\n"
          ]
        }
      ]
    }
  ]
}